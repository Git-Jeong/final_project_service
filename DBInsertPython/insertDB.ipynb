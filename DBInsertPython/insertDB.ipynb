{
 "cells": [
  {
   "cell_type": "code",
   "execution_count": 1,
   "id": "c2535662-c1fe-47b9-8973-99948c9d077e",
   "metadata": {},
   "outputs": [
    {
     "name": "stdout",
     "output_type": "stream",
     "text": [
      "Requirement already satisfied: pymysql in c:\\programdata\\anaconda3\\lib\\site-packages (1.1.1)\n",
      "Requirement already satisfied: pandas in c:\\programdata\\anaconda3\\lib\\site-packages (2.2.2)\n",
      "Requirement already satisfied: tqdm in c:\\programdata\\anaconda3\\lib\\site-packages (4.66.5)\n",
      "Requirement already satisfied: python-dotenv in c:\\programdata\\anaconda3\\lib\\site-packages (0.21.0)\n",
      "Requirement already satisfied: numpy>=1.26.0 in c:\\programdata\\anaconda3\\lib\\site-packages (from pandas) (1.26.4)\n",
      "Requirement already satisfied: python-dateutil>=2.8.2 in c:\\programdata\\anaconda3\\lib\\site-packages (from pandas) (2.9.0.post0)\n",
      "Requirement already satisfied: pytz>=2020.1 in c:\\programdata\\anaconda3\\lib\\site-packages (from pandas) (2024.1)\n",
      "Requirement already satisfied: tzdata>=2022.7 in c:\\programdata\\anaconda3\\lib\\site-packages (from pandas) (2023.3)\n",
      "Requirement already satisfied: colorama in c:\\programdata\\anaconda3\\lib\\site-packages (from tqdm) (0.4.6)\n",
      "Requirement already satisfied: six>=1.5 in c:\\programdata\\anaconda3\\lib\\site-packages (from python-dateutil>=2.8.2->pandas) (1.16.0)\n"
     ]
    }
   ],
   "source": [
    "!pip install pymysql pandas tqdm python-dotenv"
   ]
  },
  {
   "cell_type": "code",
   "execution_count": 1,
   "id": "4da38ac1-142f-4a8b-9a89-2dfd1d8835be",
   "metadata": {},
   "outputs": [],
   "source": [
    "import pandas as pd\n",
    "import pymysql\n",
    "from tqdm import tqdm\n",
    "from dotenv import load_dotenv\n",
    "import os"
   ]
  },
  {
   "cell_type": "code",
   "execution_count": 2,
   "id": "4cee2595-cb46-4cc8-95e9-24060bab4316",
   "metadata": {},
   "outputs": [],
   "source": [
    "df = pd.read_csv('./data/v2_temp_csv.csv')"
   ]
  },
  {
   "cell_type": "code",
   "execution_count": 3,
   "id": "9a8abcfa-6122-43fb-81d3-51c9fbaeb709",
   "metadata": {},
   "outputs": [
    {
     "data": {
      "text/plain": [
       "True"
      ]
     },
     "execution_count": 3,
     "metadata": {},
     "output_type": "execute_result"
    }
   ],
   "source": [
    "load_dotenv()"
   ]
  },
  {
   "cell_type": "code",
   "execution_count": 5,
   "id": "743c8a9d-2a69-4036-b396-dbd2d0d3e738",
   "metadata": {},
   "outputs": [],
   "source": [
    "conn = pymysql.connect(\n",
    "    host=os.getenv('MYSQL_HOST'),\n",
    "    user=os.getenv('MYSQL_USER'),\n",
    "    password=os.getenv('MYSQL_PASSWORD'),\n",
    "    db=os.getenv('MYSQL_DATABASE'),\n",
    "    port=int(os.getenv('MYSQL_PORT')),\n",
    "    charset='utf8'\n",
    ")"
   ]
  },
  {
   "cell_type": "code",
   "execution_count": 7,
   "id": "d0435649-7723-429b-8b73-b38fa819cbf0",
   "metadata": {},
   "outputs": [
    {
     "data": {
      "text/plain": [
       "st_id\n",
       "48    604800\n",
       "Name: count, dtype: int64"
      ]
     },
     "execution_count": 7,
     "metadata": {},
     "output_type": "execute_result"
    }
   ],
   "source": [
    "df['st_id'].value_counts()"
   ]
  },
  {
   "cell_type": "code",
   "execution_count": 11,
   "id": "a88b7a00-76b1-4157-a2b9-38bdb2355e87",
   "metadata": {},
   "outputs": [
    {
     "data": {
      "text/plain": [
       "weekday\n",
       "Wednesday    86400\n",
       "Thursday     86400\n",
       "Friday       86400\n",
       "Saturday     86400\n",
       "Sunday       86400\n",
       "Monday       86400\n",
       "Tuesday      86400\n",
       "Name: count, dtype: int64"
      ]
     },
     "execution_count": 11,
     "metadata": {},
     "output_type": "execute_result"
    }
   ],
   "source": [
    "df['weekday'].value_counts()"
   ]
  },
  {
   "cell_type": "code",
   "execution_count": 13,
   "id": "6087f683-bcf0-402e-8e96-312329b125b1",
   "metadata": {},
   "outputs": [],
   "source": [
    "cursor = conn.cursor()"
   ]
  },
  {
   "cell_type": "code",
   "execution_count": 15,
   "id": "bb0b732e-9ff3-4182-af81-db7e8c54cb96",
   "metadata": {},
   "outputs": [
    {
     "name": "stdout",
     "output_type": "stream",
     "text": [
      "<class 'pandas.core.frame.DataFrame'>\n",
      "RangeIndex: 604800 entries, 0 to 604799\n",
      "Data columns (total 12 columns):\n",
      " #   Column            Non-Null Count   Dtype  \n",
      "---  ------            --------------   -----  \n",
      " 0   dtime             604800 non-null  object \n",
      " 1   Temp              604800 non-null  float64\n",
      " 2   Humidity          604800 non-null  float64\n",
      " 3   AtmosphericPress  604800 non-null  float64\n",
      " 4   PM1               604800 non-null  int64  \n",
      " 5   PM2_5             604800 non-null  int64  \n",
      " 6   PM10              604800 non-null  int64  \n",
      " 7   CODen             604800 non-null  float64\n",
      " 8   CO2Den            604800 non-null  int64  \n",
      " 9   weekday           604800 non-null  object \n",
      " 10  time_hms          604800 non-null  object \n",
      " 11  st_id             604800 non-null  int64  \n",
      "dtypes: float64(4), int64(5), object(3)\n",
      "memory usage: 55.4+ MB\n"
     ]
    }
   ],
   "source": [
    "df.info()"
   ]
  },
  {
   "cell_type": "code",
   "execution_count": 17,
   "id": "05301d68-40ea-475d-a7dd-acfc18d2b58d",
   "metadata": {},
   "outputs": [],
   "source": [
    "weekdays = ['Monday', 'Tuesday', 'Wednesday', 'Thursday', 'Friday', 'Saturday', 'Sunday']"
   ]
  },
  {
   "cell_type": "code",
   "execution_count": null,
   "id": "596818d5-6a3a-42b2-9b10-bf7fc88df33a",
   "metadata": {},
   "outputs": [
    {
     "name": "stderr",
     "output_type": "stream",
     "text": [
      "Monday:  11%|███████▎                                                             | 9091/86400 [03:44<27:41, 46.53it/s]"
     ]
    }
   ],
   "source": [
    "for day in weekdays:\n",
    "    day_df = df[df['weekday'] == day]\n",
    "    for i, row in tqdm(day_df.iterrows(), total=len(day_df), desc=day):\n",
    "        sql = \"\"\"\n",
    "        INSERT INTO sensor (\n",
    "            dtime, time_hms, weekday, temp, humidity, atmospheric_press,\n",
    "            pm1, pm25, pm10, coden, co2den, st_id\n",
    "        ) VALUES (\n",
    "            %s, %s, %s, %s, %s, %s, %s, %s, %s, %s, %s, %s\n",
    "        )\n",
    "        \"\"\"\n",
    "        cursor.execute(sql, (\n",
    "            row['dtime'], row['time_hms'], row['weekday'], row['Temp'], row['Humidity'], row['AtmosphericPress'],\n",
    "            row['PM1'], row['PM2_5'], row['PM10'], row['CODen'], row['CO2Den'], row['st_id']\n",
    "        ))\n",
    "    conn.commit()\n"
   ]
  },
  {
   "cell_type": "code",
   "execution_count": null,
   "id": "a4d257d6-4675-4327-bd9b-ae688bead309",
   "metadata": {},
   "outputs": [],
   "source": [
    "cursor.close()\n",
    "conn.close()"
   ]
  },
  {
   "cell_type": "code",
   "execution_count": null,
   "id": "0c077282-37d2-4fb5-9a1d-2701f95cb8fe",
   "metadata": {},
   "outputs": [],
   "source": []
  },
  {
   "cell_type": "code",
   "execution_count": null,
   "id": "f907edcc-7b97-43da-bf4e-cf9a382d66f4",
   "metadata": {},
   "outputs": [],
   "source": []
  },
  {
   "cell_type": "code",
   "execution_count": null,
   "id": "2d024bcb-f522-4a09-91f6-6cc122d8ce45",
   "metadata": {},
   "outputs": [],
   "source": []
  },
  {
   "cell_type": "code",
   "execution_count": null,
   "id": "8629989d-16f8-45f3-bc2f-e8099d040c13",
   "metadata": {},
   "outputs": [],
   "source": []
  }
 ],
 "metadata": {
  "kernelspec": {
   "display_name": "Python [conda env:base] *",
   "language": "python",
   "name": "conda-base-py"
  },
  "language_info": {
   "codemirror_mode": {
    "name": "ipython",
    "version": 3
   },
   "file_extension": ".py",
   "mimetype": "text/x-python",
   "name": "python",
   "nbconvert_exporter": "python",
   "pygments_lexer": "ipython3",
   "version": "3.12.7"
  }
 },
 "nbformat": 4,
 "nbformat_minor": 5
}
